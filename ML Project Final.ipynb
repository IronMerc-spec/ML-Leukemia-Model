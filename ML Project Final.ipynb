{
 "cells": [
  {
   "cell_type": "code",
   "execution_count": 12,
   "id": "095a52a1",
   "metadata": {},
   "outputs": [],
   "source": [
    "import os, warnings\n",
    "import matplotlib.pyplot as plt\n",
    "import pathlib\n",
    "import shutil\n",
    "import random\n",
    "from matplotlib import gridspec\n",
    "from PIL import Image, ImageOps\n",
    "\n",
    "import numpy as np\n",
    "import pandas as pd\n",
    "import tensorflow as tf\n",
    "from tensorflow import keras\n",
    "from tensorflow.keras import layers, callbacks\n",
    "from tensorflow.keras.layers.experimental import preprocessing\n",
    "from tensorflow.keras.preprocessing import image_dataset_from_directory\n"
   ]
  },
  {
   "cell_type": "code",
   "execution_count": 2,
   "id": "9425a17c",
   "metadata": {},
   "outputs": [],
   "source": [
    "train_datagen = tf.keras.preprocessing.image.ImageDataGenerator(rescale = 1/255.0)\n",
    "valid_datagen = tf.keras.preprocessing.image.ImageDataGenerator(rescale = 1/255.0)"
   ]
  },
  {
   "cell_type": "code",
   "execution_count": 3,
   "id": "29f46429",
   "metadata": {},
   "outputs": [
    {
     "name": "stdout",
     "output_type": "stream",
     "text": [
      "Found 16080 images belonging to 4 classes.\n",
      "Found 1984 images belonging to 4 classes.\n"
     ]
    }
   ],
   "source": [
    "train_data = train_datagen.flow_from_directory(\n",
    "    directory = 'D:/SEL Internship/data/train',\n",
    "    target_size = (512, 512),\n",
    "    class_mode = 'categorical',\n",
    "    batch_size = 64,\n",
    "    seed = 42\n",
    ")\n",
    "\n",
    "valid_data = train_datagen.flow_from_directory(\n",
    "    directory = 'D:/SEL Internship/data/validation',\n",
    "    target_size = (512, 512),\n",
    "    class_mode = 'categorical',\n",
    "    batch_size = 64,\n",
    "    seed = 42\n",
    ")"
   ]
  },
  {
   "cell_type": "code",
   "execution_count": 4,
   "id": "1420488c",
   "metadata": {},
   "outputs": [],
   "source": [
    "# develops pre-trained model with custom layers\n",
    "\n",
    "def build_transfer_learning_model(base_model):\n",
    "    for layer in base_model.layers:\n",
    "        layer.trainable = False\n",
    "        \n",
    "    # Declare a sequential model that combines the base model with custom layers\n",
    "    model = tf.keras.Sequential([\n",
    "        base_model,\n",
    "        tf.keras.layers.GlobalAveragePooling2D(),\n",
    "        tf.keras.layers.BatchNormalization(),\n",
    "        tf.keras.layers.Dropout(rate=0.2),\n",
    "        tf.keras.layers.Dense(units=128, activation ='relu'),\n",
    "        tf.keras.layers.Dense(units=128, activation ='relu'),\n",
    "        tf.keras.layers.Dense(units=4, activation='tanh')\n",
    "    ])\n",
    "    \n",
    "    # Compile the model\n",
    "    model.compile(\n",
    "        optimizer='rmsprop',\n",
    "        loss='Huber',\n",
    "        metrics=['accuracy'],\n",
    "    )\n",
    "    \n",
    "    return model"
   ]
  },
  {
   "cell_type": "code",
   "execution_count": 5,
   "id": "13b7e657",
   "metadata": {},
   "outputs": [
    {
     "name": "stdout",
     "output_type": "stream",
     "text": [
      "Epoch 1/30\n",
      "252/252 [==============================] - 3801s 15s/step - loss: 0.0160 - accuracy: 0.9733 - val_loss: 0.0429 - val_accuracy: 0.9819\n",
      "Epoch 2/30\n",
      "252/252 [==============================] - 3809s 15s/step - loss: 0.0030 - accuracy: 0.9955 - val_loss: 0.0024 - val_accuracy: 0.9980\n",
      "Epoch 3/30\n",
      "252/252 [==============================] - 3739s 15s/step - loss: 0.0014 - accuracy: 0.9976 - val_loss: 3.8118e-04 - val_accuracy: 1.0000\n",
      "Epoch 4/30\n",
      "252/252 [==============================] - 3825s 15s/step - loss: 8.0481e-04 - accuracy: 0.9989 - val_loss: 1.5393e-04 - val_accuracy: 1.0000\n",
      "Epoch 5/30\n",
      "252/252 [==============================] - 3792s 15s/step - loss: 6.3793e-04 - accuracy: 0.9988 - val_loss: 3.2087e-04 - val_accuracy: 1.0000\n",
      "Epoch 6/30\n",
      "252/252 [==============================] - 3760s 15s/step - loss: 4.2236e-04 - accuracy: 0.9992 - val_loss: 2.3805e-04 - val_accuracy: 1.0000\n",
      "Epoch 7/30\n",
      "252/252 [==============================] - 4068s 16s/step - loss: 3.6835e-04 - accuracy: 0.9993 - val_loss: 8.7362e-05 - val_accuracy: 1.0000\n",
      "Epoch 8/30\n",
      "252/252 [==============================] - 3837s 15s/step - loss: 3.8499e-04 - accuracy: 0.9988 - val_loss: 9.7181e-05 - val_accuracy: 1.0000\n",
      "Epoch 9/30\n",
      "252/252 [==============================] - 3833s 15s/step - loss: 2.3974e-04 - accuracy: 0.9998 - val_loss: 1.5942e-04 - val_accuracy: 1.0000\n",
      "Epoch 10/30\n",
      "252/252 [==============================] - 3845s 15s/step - loss: 2.6840e-04 - accuracy: 0.9994 - val_loss: 1.4973e-04 - val_accuracy: 0.9995\n",
      "Epoch 11/30\n",
      "252/252 [==============================] - 3838s 15s/step - loss: 2.2613e-04 - accuracy: 0.9996 - val_loss: 7.3662e-05 - val_accuracy: 0.9995\n",
      "Epoch 12/30\n",
      "252/252 [==============================] - 3829s 15s/step - loss: 2.0654e-04 - accuracy: 0.9998 - val_loss: 1.0044e-04 - val_accuracy: 1.0000\n",
      "Epoch 13/30\n",
      "252/252 [==============================] - 3831s 15s/step - loss: 3.2231e-04 - accuracy: 0.9989 - val_loss: 3.7751e-05 - val_accuracy: 1.0000\n",
      "Model: \"sequential\"\n",
      "_________________________________________________________________\n",
      "Layer (type)                 Output Shape              Param #   \n",
      "=================================================================\n",
      "vgg16 (Functional)           (None, 16, 16, 512)       14714688  \n",
      "_________________________________________________________________\n",
      "global_average_pooling2d (Gl (None, 512)               0         \n",
      "_________________________________________________________________\n",
      "batch_normalization (BatchNo (None, 512)               2048      \n",
      "_________________________________________________________________\n",
      "dropout (Dropout)            (None, 512)               0         \n",
      "_________________________________________________________________\n",
      "dense (Dense)                (None, 128)               65664     \n",
      "_________________________________________________________________\n",
      "dense_1 (Dense)              (None, 128)               16512     \n",
      "_________________________________________________________________\n",
      "dense_2 (Dense)              (None, 4)                 516       \n",
      "=================================================================\n",
      "Total params: 14,799,428\n",
      "Trainable params: 83,716\n",
      "Non-trainable params: 14,715,712\n",
      "_________________________________________________________________\n"
     ]
    },
    {
     "data": {
      "image/png": "[encoded data removed]",
      "text/plain": [
       "<Figure size 432x288 with 1 Axes>"
      ]
     },
     "metadata": {
      "needs_background": "light"
     },
     "output_type": "display_data"
    },
    {
     "data": {
      "image/png": "[encoded data removed]",
      "text/plain": [
       "<Figure size 432x288 with 1 Axes>"
      ]
     },
     "metadata": {
      "needs_background": "light"
     },
     "output_type": "display_data"
    }
   ],
   "source": [
    "from tensorflow.keras.applications.vgg16 import VGG16\n",
    "\n",
    "vgg_new_model = build_transfer_learning_model(\n",
    "    base_model=VGG16(include_top=False, input_shape=(512, 512, 3), weights='imagenet')\n",
    ")\n",
    "\n",
    "early_stopping = callbacks.EarlyStopping(\n",
    "    min_delta=0.001, # minimium amount of change to count as an improvement\n",
    "    patience=10, # how many epochs to wait before stopping\n",
    "    restore_best_weights=True,\n",
    "    )\n",
    "\n",
    "# Train the model for 10 epochs\n",
    "vgg_new_hist = vgg_new_model.fit(\n",
    "    train_data,\n",
    "    validation_data=valid_data,\n",
    "    callbacks=[early_stopping],\n",
    "    epochs=30,\n",
    ")\n",
    "\n",
    "vgg_new_model.summary()\n",
    "\n",
    "history_frame = pd.DataFrame(vgg_new_hist.history)\n",
    "\n",
    "history_frame.loc[:, ['loss', 'val_loss']].plot()\n",
    "history_frame.loc[:, ['accuracy', 'val_accuracy']].plot();"
   ]
  },
  {
   "cell_type": "code",
   "execution_count": 19,
   "id": "93345789",
   "metadata": {},
   "outputs": [],
   "source": [
    "def prepare_single_image(img_path: str) -> np.array:\n",
    "    img = Image.open(img_path)\n",
    "    img = img.resize(size=(512, 512))\n",
    "    return np.array(img) / 255.0"
   ]
  },
  {
   "cell_type": "code",
   "execution_count": 25,
   "id": "254139cb",
   "metadata": {},
   "outputs": [
    {
     "name": "stdout",
     "output_type": "stream",
     "text": [
      "Number Predicted: 484\n",
      "Number Correct: 484\n"
     ]
    }
   ],
   "source": [
    "# benign accuracy\n",
    "\n",
    "num_total, num_correct = 0, 0\n",
    "\n",
    "for img_path in os.listdir('data/test/benign'):\n",
    "        img = prepare_single_image('data/test/benign/' + img_path)\n",
    "        pred = vgg_new_model.predict(tf.expand_dims(img, axis=0))\n",
    "        pred = pred.argmax()\n",
    "        num_total += 1\n",
    "        if pred == 0:\n",
    "            num_correct += 1\n",
    "\n",
    "print('Number Predicted: ' + str(num_total))\n",
    "print('Number Correct: ' + str(num_correct))"
   ]
  },
  {
   "cell_type": "code",
   "execution_count": 26,
   "id": "93a3488c",
   "metadata": {},
   "outputs": [
    {
     "name": "stdout",
     "output_type": "stream",
     "text": [
      "Number Predicted: 484\n",
      "Number Correct: 484\n"
     ]
    }
   ],
   "source": [
    "# early accuracy\n",
    "\n",
    "num_total, num_correct = 0, 0\n",
    "\n",
    "for img_path in os.listdir('data/test/early'):\n",
    "        img = prepare_single_image('data/test/early/' + img_path)\n",
    "        pred = vgg_new_model.predict(tf.expand_dims(img, axis=0))\n",
    "        pred = pred.argmax()\n",
    "        num_total += 1\n",
    "        if pred == 1:\n",
    "            num_correct += 1\n",
    "\n",
    "print('Number Predicted: ' + str(num_total))\n",
    "print('Number Correct: ' + str(num_correct))"
   ]
  },
  {
   "cell_type": "code",
   "execution_count": 27,
   "id": "0fc4765d",
   "metadata": {},
   "outputs": [
    {
     "name": "stdout",
     "output_type": "stream",
     "text": [
      "Number Predicted: 484\n",
      "Number Correct: 484\n"
     ]
    }
   ],
   "source": [
    "# pre accuracy\n",
    "\n",
    "num_total, num_correct = 0, 0\n",
    "\n",
    "for img_path in os.listdir('data/test/pre'):\n",
    "        img = prepare_single_image('data/test/pre/' + img_path)\n",
    "        pred = vgg_new_model.predict(tf.expand_dims(img, axis=0))\n",
    "        pred = pred.argmax()\n",
    "        num_total += 1\n",
    "        if pred == 2:\n",
    "            num_correct += 1\n",
    "\n",
    "print('Number Predicted: ' + str(num_total))\n",
    "print('Number Correct: ' + str(num_correct))"
   ]
  },
  {
   "cell_type": "code",
   "execution_count": 28,
   "id": "63c8ee52",
   "metadata": {},
   "outputs": [
    {
     "name": "stdout",
     "output_type": "stream",
     "text": [
      "Number Predicted: 484\n",
      "Number Correct: 484\n"
     ]
    }
   ],
   "source": [
    "# pro accuracy\n",
    "\n",
    "num_total, num_correct = 0, 0\n",
    "\n",
    "for img_path in os.listdir('data/test/pro'):\n",
    "        img = prepare_single_image('data/test/pro/' + img_path)\n",
    "        pred = vgg_new_model.predict(tf.expand_dims(img, axis=0))\n",
    "        pred = pred.argmax()\n",
    "        num_total += 1\n",
    "        if pred == 3:\n",
    "            num_correct += 1\n",
    "\n",
    "print('Number Predicted: ' + str(num_total))\n",
    "print('Number Correct: ' + str(num_correct))"
   ]
  }
 ],
 "metadata": {
  "kernelspec": {
   "display_name": "Python 3",
   "language": "python",
   "name": "python3"
  },
  "language_info": {
   "codemirror_mode": {
    "name": "ipython",
    "version": 3
   },
   "file_extension": ".py",
   "mimetype": "text/x-python",
   "name": "python",
   "nbconvert_exporter": "python",
   "pygments_lexer": "ipython3",
   "version": "3.6.13"
  }
 },
 "nbformat": 4,
 "nbformat_minor": 5
}
